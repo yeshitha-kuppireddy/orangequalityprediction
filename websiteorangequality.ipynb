{
  "nbformat": 4,
  "nbformat_minor": 0,
  "metadata": {
    "colab": {
      "provenance": [],
      "gpuType": "T4",
      "authorship_tag": "ABX9TyMSLC3EhIFpIvwcW8iHees+",
      "include_colab_link": true
    },
    "kernelspec": {
      "name": "python3",
      "display_name": "Python 3"
    },
    "language_info": {
      "name": "python"
    },
    "accelerator": "GPU"
  },
  "cells": [
    {
      "cell_type": "markdown",
      "metadata": {
        "id": "view-in-github",
        "colab_type": "text"
      },
      "source": [
        "<a href=\"https://colab.research.google.com/github/yeshitha-kuppireddy/orangequalityprediction/blob/main/websiteorangequality.ipynb\" target=\"_parent\"><img src=\"https://colab.research.google.com/assets/colab-badge.svg\" alt=\"Open In Colab\"/></a>"
      ]
    },
    {
      "cell_type": "markdown",
      "source": [
        "link to the pickle files:\n",
        "\n",
        "https://drive.google.com/file/d/1F-tKxBZDKh1bV262_Um6hzWPPVRo4Y6N/view?usp=drive_link\n",
        "\n",
        "https://drive.google.com/file/d/1OYLmZ6I-cpIfnNexdJgz06mcefk5zQsQ/view?usp=drive_link\n",
        "\n",
        "https://drive.google.com/file/d/11Dc9SqhJbmi-fooP8D2KF47LrAF6tEdq/view?usp=drive_link\n",
        "\n",
        "https://drive.google.com/file/d/15PhsvEyLHjei2I1ra342QJsQBa5gYFPM/view?usp=drive_link\n",
        "\n",
        "https://drive.google.com/file/d/1QpoCnTjvcZPCEq1lRfSnJX9eKN1x70jJ/view?usp=sharing"
      ],
      "metadata": {
        "id": "iSO3zJpKjHCG"
      }
    },
    {
      "cell_type": "code",
      "source": [
        "pip install streamlit --quiet"
      ],
      "metadata": {
        "id": "d2ZBQXREnGQh",
        "colab": {
          "base_uri": "https://localhost:8080/"
        },
        "outputId": "73f90b9f-c7e9-436c-8f48-8de35e51e91c"
      },
      "execution_count": null,
      "outputs": [
        {
          "output_type": "stream",
          "name": "stdout",
          "text": [
            "\u001b[2K     \u001b[90m━━━━━━━━━━━━━━━━━━━━━━━━━━━━━━━━━━━━━━━━\u001b[0m \u001b[32m8.6/8.6 MB\u001b[0m \u001b[31m45.8 MB/s\u001b[0m eta \u001b[36m0:00:00\u001b[0m\n",
            "\u001b[2K     \u001b[90m━━━━━━━━━━━━━━━━━━━━━━━━━━━━━━━━━━━━━━━━\u001b[0m \u001b[32m207.3/207.3 kB\u001b[0m \u001b[31m16.0 MB/s\u001b[0m eta \u001b[36m0:00:00\u001b[0m\n",
            "\u001b[2K     \u001b[90m━━━━━━━━━━━━━━━━━━━━━━━━━━━━━━━━━━━━━━━━\u001b[0m \u001b[32m6.9/6.9 MB\u001b[0m \u001b[31m74.6 MB/s\u001b[0m eta \u001b[36m0:00:00\u001b[0m\n",
            "\u001b[2K     \u001b[90m━━━━━━━━━━━━━━━━━━━━━━━━━━━━━━━━━━━━━━━━\u001b[0m \u001b[32m83.0/83.0 kB\u001b[0m \u001b[31m8.6 MB/s\u001b[0m eta \u001b[36m0:00:00\u001b[0m\n",
            "\u001b[2K     \u001b[90m━━━━━━━━━━━━━━━━━━━━━━━━━━━━━━━━━━━━━━━━\u001b[0m \u001b[32m62.7/62.7 kB\u001b[0m \u001b[31m8.9 MB/s\u001b[0m eta \u001b[36m0:00:00\u001b[0m\n",
            "\u001b[?25h"
          ]
        }
      ]
    },
    {
      "cell_type": "code",
      "source": [
        "from google.colab import drive\n",
        "drive.mount('/content/drive')"
      ],
      "metadata": {
        "colab": {
          "base_uri": "https://localhost:8080/"
        },
        "id": "F1I8mxeJRPko",
        "outputId": "bd2abe31-9234-453c-e441-6ea6e6bb7bd3"
      },
      "execution_count": null,
      "outputs": [
        {
          "output_type": "stream",
          "name": "stdout",
          "text": [
            "Mounted at /content/drive\n"
          ]
        }
      ]
    },
    {
      "cell_type": "code",
      "source": [
        "%%writefile app.py\n",
        "import numpy as np\n",
        "import pickle\n",
        "import pandas as pd\n",
        "import streamlit as st\n",
        "from PIL import Image\n",
        "\n",
        "model = open('//content/drive/My Drive/model.pkl', \"rb\")\n",
        "model=pickle.load(model)\n",
        "color= open('//content/drive/My Drive/color.pkl', \"rb\")\n",
        "color=pickle.load(color)\n",
        "var= open('//content/drive/My Drive/variety.pkl', \"rb\")\n",
        "var=pickle.load(var)\n",
        "blem= open('//content/drive/My Drive/blemishes.pkl', \"rb\")\n",
        "blem=pickle.load(blem)\n",
        "scaler= open('//content/drive/My Drive/scaler.pkl', \"rb\")\n",
        "scaler=pickle.load(scaler)\n",
        "\n",
        "def predict(size,weight,brix,ph,softness,harvesttime,ripeness,colour,variety,blemishes):\n",
        "  y=scaler.transform([[size,weight,brix,ph,softness,harvesttime,ripeness,colour,variety,blemishes]])\n",
        "  prediction=model.predict(y)\n",
        "  return prediction\n",
        "size = st.number_input('Size (cm)')\n",
        "weight = st.number_input('Weight (g)')\n",
        "brix = st.number_input('Brix (Sweetness)')\n",
        "ph = st.number_input('pH (Acidity)')\n",
        "softness = st.slider('Softness (1-5)', 1, 5, 1)\n",
        "harvesttime = st.number_input('HarvestTime (days)')\n",
        "ripeness = st.slider('Ripeness (1-5)', 1, 5, 1)\n",
        "colour = st.selectbox('Color', color.keys()) # Assuming 'color' is a classifier]\n",
        "variety = st.selectbox('Variety', var.classes_) # Assuming 'var' is a classifier\n",
        "blemishes = st.selectbox('Blemishes (Y/N)', blem.keys()) # Assuming 'blem' is a classifier\n",
        "\n",
        "if st.button('Predict'):\n",
        "  colour=color[colour]\n",
        "  variety=var.transform([variety])\n",
        "  variety=variety[0]\n",
        "  blemishes=blem[blemishes]\n",
        "  result = predict(size,weight,brix,ph,softness,harvesttime,ripeness,colour,variety,blemishes)\n",
        "\n",
        "  st.write(\"The quality of the orange is:\", result[0])\n",
        "  if result[0]>4:\n",
        "    st.write(\"good quality\")\n",
        "  elif result[0]>3:\n",
        "    st.write(\"moderate quality\")\n",
        "  else:\n",
        "    st.write(\"poor quality\")"
      ],
      "metadata": {
        "id": "zaHl8LrdNwEo",
        "colab": {
          "base_uri": "https://localhost:8080/"
        },
        "outputId": "0f158917-8e69-45be-b480-6407b8294d63"
      },
      "execution_count": null,
      "outputs": [
        {
          "output_type": "stream",
          "name": "stdout",
          "text": [
            "Overwriting app.py\n"
          ]
        }
      ]
    },
    {
      "cell_type": "code",
      "source": [
        "!streamlit run app.py & npx localtunnel --port 8501\n"
      ],
      "metadata": {
        "colab": {
          "base_uri": "https://localhost:8080/"
        },
        "id": "fH7YzHiwoPap",
        "outputId": "b68e0706-f1bd-4a54-b476-fba883399c9d"
      },
      "execution_count": null,
      "outputs": [
        {
          "output_type": "stream",
          "name": "stdout",
          "text": [
            "\n",
            "Collecting usage statistics. To deactivate, set browser.gatherUsageStats to false.\n",
            "\u001b[0m\n",
            "\u001b[0m\n",
            "\u001b[34m\u001b[1m  You can now view your Streamlit app in your browser.\u001b[0m\n",
            "\u001b[0m\n",
            "\u001b[34m  Local URL: \u001b[0m\u001b[1mhttp://localhost:8501\u001b[0m\n",
            "\u001b[34m  Network URL: \u001b[0m\u001b[1mhttp://172.28.0.12:8501\u001b[0m\n",
            "\u001b[34m  External URL: \u001b[0m\u001b[1mhttp://34.124.201.67:8501\u001b[0m\n",
            "\u001b[0m\n",
            "\u001b[K\u001b[?25hnpx: installed 22 in 2.145s\n",
            "your url is: https://chilly-kings-carry.loca.lt\n",
            "/usr/local/lib/python3.10/dist-packages/sklearn/base.py:439: UserWarning: X does not have valid feature names, but StandardScaler was fitted with feature names\n",
            "  warnings.warn(\n",
            "/usr/local/lib/python3.10/dist-packages/sklearn/base.py:439: UserWarning: X does not have valid feature names, but StandardScaler was fitted with feature names\n",
            "  warnings.warn(\n",
            "\u001b[34m  Stopping...\u001b[0m\n",
            "^C\n"
          ]
        }
      ]
    }
  ]
}