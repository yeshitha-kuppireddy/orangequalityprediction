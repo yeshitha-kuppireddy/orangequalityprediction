{
  "nbformat": 4,
  "nbformat_minor": 0,
  "metadata": {
    "colab": {
      "provenance": [],
      "authorship_tag": "ABX9TyM1VTLNq5LNmsjZS6Ia2x/K",
      "include_colab_link": true
    },
    "kernelspec": {
      "name": "python3",
      "display_name": "Python 3"
    },
    "language_info": {
      "name": "python"
    }
  },
  "cells": [
    {
      "cell_type": "markdown",
      "metadata": {
        "id": "view-in-github",
        "colab_type": "text"
      },
      "source": [
        "<a href=\"https://colab.research.google.com/github/yeshitha-kuppireddy/orangequalityprediction/blob/main/orangequality.ipynb\" target=\"_parent\"><img src=\"https://colab.research.google.com/assets/colab-badge.svg\" alt=\"Open In Colab\"/></a>"
      ]
    },
    {
      "cell_type": "markdown",
      "source": [
        "link to the dataset: https://www.kaggle.com/datasets/shruthiiiee/orange-quality"
      ],
      "metadata": {
        "id": "iSO3zJpKjHCG"
      }
    },
    {
      "cell_type": "code",
      "execution_count": null,
      "metadata": {
        "colab": {
          "base_uri": "https://localhost:8080/"
        },
        "id": "bSXSnZH2zEwl",
        "outputId": "7b89b87e-e11a-4549-a4aa-56683d64df33"
      },
      "outputs": [
        {
          "output_type": "stream",
          "name": "stdout",
          "text": [
            "Drive already mounted at /content/drive; to attempt to forcibly remount, call drive.mount(\"/content/drive\", force_remount=True).\n"
          ]
        }
      ],
      "source": [
        "from google.colab import drive\n",
        "drive.mount('/content/drive')"
      ]
    },
    {
      "cell_type": "code",
      "source": [
        "import pandas as pd\n",
        "data=pd.read_csv('//content/drive/My Drive/orangequality.csv')\n",
        "#data=pd.read_csv('/content/Orange Quality Data.csv')\n",
        "data.tail()"
      ],
      "metadata": {
        "colab": {
          "base_uri": "https://localhost:8080/",
          "height": 345
        },
        "id": "5FcB0F8XzhQ7",
        "outputId": "d373cec7-f0db-4310-eacb-2f7b79082a84"
      },
      "execution_count": null,
      "outputs": [
        {
          "output_type": "execute_result",
          "data": {
            "text/plain": [
              "     Size (cm)  Weight (g)  Brix (Sweetness)  pH (Acidity)  Softness (1-5)  \\\n",
              "236        8.0         194              10.9           3.6             5.0   \n",
              "237        7.4         275               8.5           3.5             5.0   \n",
              "238        7.5         196              15.7           3.0             3.0   \n",
              "239        7.2         251               9.8           4.3             3.0   \n",
              "240        7.3         282              10.5           2.9             4.0   \n",
              "\n",
              "     HarvestTime (days)  Ripeness (1-5)         Color            Variety  \\\n",
              "236                  13             1.0    Orange-Red          Tangerine   \n",
              "237                  20             5.0  Light Orange  Minneola (Hybrid)   \n",
              "238                  13             3.0   Deep Orange             Temple   \n",
              "239                  23             1.0  Light Orange       Moro (Blood)   \n",
              "240                  21             2.0    Orange-Red              Jaffa   \n",
              "\n",
              "             Blemishes (Y/N)  Quality (1-5)  \n",
              "236                Y (Scars)            5.0  \n",
              "237                        N            4.0  \n",
              "238  Y (Minor Insect Damage)            5.0  \n",
              "239  Y (Minor Insect Damage)            3.0  \n",
              "240                Y (Minor)            4.0  "
            ],
            "text/html": [
              "\n",
              "  <div id=\"df-018fd8c7-6ee5-43e7-b2c1-03710f897e8e\" class=\"colab-df-container\">\n",
              "    <div>\n",
              "<style scoped>\n",
              "    .dataframe tbody tr th:only-of-type {\n",
              "        vertical-align: middle;\n",
              "    }\n",
              "\n",
              "    .dataframe tbody tr th {\n",
              "        vertical-align: top;\n",
              "    }\n",
              "\n",
              "    .dataframe thead th {\n",
              "        text-align: right;\n",
              "    }\n",
              "</style>\n",
              "<table border=\"1\" class=\"dataframe\">\n",
              "  <thead>\n",
              "    <tr style=\"text-align: right;\">\n",
              "      <th></th>\n",
              "      <th>Size (cm)</th>\n",
              "      <th>Weight (g)</th>\n",
              "      <th>Brix (Sweetness)</th>\n",
              "      <th>pH (Acidity)</th>\n",
              "      <th>Softness (1-5)</th>\n",
              "      <th>HarvestTime (days)</th>\n",
              "      <th>Ripeness (1-5)</th>\n",
              "      <th>Color</th>\n",
              "      <th>Variety</th>\n",
              "      <th>Blemishes (Y/N)</th>\n",
              "      <th>Quality (1-5)</th>\n",
              "    </tr>\n",
              "  </thead>\n",
              "  <tbody>\n",
              "    <tr>\n",
              "      <th>236</th>\n",
              "      <td>8.0</td>\n",
              "      <td>194</td>\n",
              "      <td>10.9</td>\n",
              "      <td>3.6</td>\n",
              "      <td>5.0</td>\n",
              "      <td>13</td>\n",
              "      <td>1.0</td>\n",
              "      <td>Orange-Red</td>\n",
              "      <td>Tangerine</td>\n",
              "      <td>Y (Scars)</td>\n",
              "      <td>5.0</td>\n",
              "    </tr>\n",
              "    <tr>\n",
              "      <th>237</th>\n",
              "      <td>7.4</td>\n",
              "      <td>275</td>\n",
              "      <td>8.5</td>\n",
              "      <td>3.5</td>\n",
              "      <td>5.0</td>\n",
              "      <td>20</td>\n",
              "      <td>5.0</td>\n",
              "      <td>Light Orange</td>\n",
              "      <td>Minneola (Hybrid)</td>\n",
              "      <td>N</td>\n",
              "      <td>4.0</td>\n",
              "    </tr>\n",
              "    <tr>\n",
              "      <th>238</th>\n",
              "      <td>7.5</td>\n",
              "      <td>196</td>\n",
              "      <td>15.7</td>\n",
              "      <td>3.0</td>\n",
              "      <td>3.0</td>\n",
              "      <td>13</td>\n",
              "      <td>3.0</td>\n",
              "      <td>Deep Orange</td>\n",
              "      <td>Temple</td>\n",
              "      <td>Y (Minor Insect Damage)</td>\n",
              "      <td>5.0</td>\n",
              "    </tr>\n",
              "    <tr>\n",
              "      <th>239</th>\n",
              "      <td>7.2</td>\n",
              "      <td>251</td>\n",
              "      <td>9.8</td>\n",
              "      <td>4.3</td>\n",
              "      <td>3.0</td>\n",
              "      <td>23</td>\n",
              "      <td>1.0</td>\n",
              "      <td>Light Orange</td>\n",
              "      <td>Moro (Blood)</td>\n",
              "      <td>Y (Minor Insect Damage)</td>\n",
              "      <td>3.0</td>\n",
              "    </tr>\n",
              "    <tr>\n",
              "      <th>240</th>\n",
              "      <td>7.3</td>\n",
              "      <td>282</td>\n",
              "      <td>10.5</td>\n",
              "      <td>2.9</td>\n",
              "      <td>4.0</td>\n",
              "      <td>21</td>\n",
              "      <td>2.0</td>\n",
              "      <td>Orange-Red</td>\n",
              "      <td>Jaffa</td>\n",
              "      <td>Y (Minor)</td>\n",
              "      <td>4.0</td>\n",
              "    </tr>\n",
              "  </tbody>\n",
              "</table>\n",
              "</div>\n",
              "    <div class=\"colab-df-buttons\">\n",
              "\n",
              "  <div class=\"colab-df-container\">\n",
              "    <button class=\"colab-df-convert\" onclick=\"convertToInteractive('df-018fd8c7-6ee5-43e7-b2c1-03710f897e8e')\"\n",
              "            title=\"Convert this dataframe to an interactive table.\"\n",
              "            style=\"display:none;\">\n",
              "\n",
              "  <svg xmlns=\"http://www.w3.org/2000/svg\" height=\"24px\" viewBox=\"0 -960 960 960\">\n",
              "    <path d=\"M120-120v-720h720v720H120Zm60-500h600v-160H180v160Zm220 220h160v-160H400v160Zm0 220h160v-160H400v160ZM180-400h160v-160H180v160Zm440 0h160v-160H620v160ZM180-180h160v-160H180v160Zm440 0h160v-160H620v160Z\"/>\n",
              "  </svg>\n",
              "    </button>\n",
              "\n",
              "  <style>\n",
              "    .colab-df-container {\n",
              "      display:flex;\n",
              "      gap: 12px;\n",
              "    }\n",
              "\n",
              "    .colab-df-convert {\n",
              "      background-color: #E8F0FE;\n",
              "      border: none;\n",
              "      border-radius: 50%;\n",
              "      cursor: pointer;\n",
              "      display: none;\n",
              "      fill: #1967D2;\n",
              "      height: 32px;\n",
              "      padding: 0 0 0 0;\n",
              "      width: 32px;\n",
              "    }\n",
              "\n",
              "    .colab-df-convert:hover {\n",
              "      background-color: #E2EBFA;\n",
              "      box-shadow: 0px 1px 2px rgba(60, 64, 67, 0.3), 0px 1px 3px 1px rgba(60, 64, 67, 0.15);\n",
              "      fill: #174EA6;\n",
              "    }\n",
              "\n",
              "    .colab-df-buttons div {\n",
              "      margin-bottom: 4px;\n",
              "    }\n",
              "\n",
              "    [theme=dark] .colab-df-convert {\n",
              "      background-color: #3B4455;\n",
              "      fill: #D2E3FC;\n",
              "    }\n",
              "\n",
              "    [theme=dark] .colab-df-convert:hover {\n",
              "      background-color: #434B5C;\n",
              "      box-shadow: 0px 1px 3px 1px rgba(0, 0, 0, 0.15);\n",
              "      filter: drop-shadow(0px 1px 2px rgba(0, 0, 0, 0.3));\n",
              "      fill: #FFFFFF;\n",
              "    }\n",
              "  </style>\n",
              "\n",
              "    <script>\n",
              "      const buttonEl =\n",
              "        document.querySelector('#df-018fd8c7-6ee5-43e7-b2c1-03710f897e8e button.colab-df-convert');\n",
              "      buttonEl.style.display =\n",
              "        google.colab.kernel.accessAllowed ? 'block' : 'none';\n",
              "\n",
              "      async function convertToInteractive(key) {\n",
              "        const element = document.querySelector('#df-018fd8c7-6ee5-43e7-b2c1-03710f897e8e');\n",
              "        const dataTable =\n",
              "          await google.colab.kernel.invokeFunction('convertToInteractive',\n",
              "                                                    [key], {});\n",
              "        if (!dataTable) return;\n",
              "\n",
              "        const docLinkHtml = 'Like what you see? Visit the ' +\n",
              "          '<a target=\"_blank\" href=https://colab.research.google.com/notebooks/data_table.ipynb>data table notebook</a>'\n",
              "          + ' to learn more about interactive tables.';\n",
              "        element.innerHTML = '';\n",
              "        dataTable['output_type'] = 'display_data';\n",
              "        await google.colab.output.renderOutput(dataTable, element);\n",
              "        const docLink = document.createElement('div');\n",
              "        docLink.innerHTML = docLinkHtml;\n",
              "        element.appendChild(docLink);\n",
              "      }\n",
              "    </script>\n",
              "  </div>\n",
              "\n",
              "\n",
              "<div id=\"df-c022c5f8-599c-466e-b1d6-276988b5c8be\">\n",
              "  <button class=\"colab-df-quickchart\" onclick=\"quickchart('df-c022c5f8-599c-466e-b1d6-276988b5c8be')\"\n",
              "            title=\"Suggest charts\"\n",
              "            style=\"display:none;\">\n",
              "\n",
              "<svg xmlns=\"http://www.w3.org/2000/svg\" height=\"24px\"viewBox=\"0 0 24 24\"\n",
              "     width=\"24px\">\n",
              "    <g>\n",
              "        <path d=\"M19 3H5c-1.1 0-2 .9-2 2v14c0 1.1.9 2 2 2h14c1.1 0 2-.9 2-2V5c0-1.1-.9-2-2-2zM9 17H7v-7h2v7zm4 0h-2V7h2v10zm4 0h-2v-4h2v4z\"/>\n",
              "    </g>\n",
              "</svg>\n",
              "  </button>\n",
              "\n",
              "<style>\n",
              "  .colab-df-quickchart {\n",
              "      --bg-color: #E8F0FE;\n",
              "      --fill-color: #1967D2;\n",
              "      --hover-bg-color: #E2EBFA;\n",
              "      --hover-fill-color: #174EA6;\n",
              "      --disabled-fill-color: #AAA;\n",
              "      --disabled-bg-color: #DDD;\n",
              "  }\n",
              "\n",
              "  [theme=dark] .colab-df-quickchart {\n",
              "      --bg-color: #3B4455;\n",
              "      --fill-color: #D2E3FC;\n",
              "      --hover-bg-color: #434B5C;\n",
              "      --hover-fill-color: #FFFFFF;\n",
              "      --disabled-bg-color: #3B4455;\n",
              "      --disabled-fill-color: #666;\n",
              "  }\n",
              "\n",
              "  .colab-df-quickchart {\n",
              "    background-color: var(--bg-color);\n",
              "    border: none;\n",
              "    border-radius: 50%;\n",
              "    cursor: pointer;\n",
              "    display: none;\n",
              "    fill: var(--fill-color);\n",
              "    height: 32px;\n",
              "    padding: 0;\n",
              "    width: 32px;\n",
              "  }\n",
              "\n",
              "  .colab-df-quickchart:hover {\n",
              "    background-color: var(--hover-bg-color);\n",
              "    box-shadow: 0 1px 2px rgba(60, 64, 67, 0.3), 0 1px 3px 1px rgba(60, 64, 67, 0.15);\n",
              "    fill: var(--button-hover-fill-color);\n",
              "  }\n",
              "\n",
              "  .colab-df-quickchart-complete:disabled,\n",
              "  .colab-df-quickchart-complete:disabled:hover {\n",
              "    background-color: var(--disabled-bg-color);\n",
              "    fill: var(--disabled-fill-color);\n",
              "    box-shadow: none;\n",
              "  }\n",
              "\n",
              "  .colab-df-spinner {\n",
              "    border: 2px solid var(--fill-color);\n",
              "    border-color: transparent;\n",
              "    border-bottom-color: var(--fill-color);\n",
              "    animation:\n",
              "      spin 1s steps(1) infinite;\n",
              "  }\n",
              "\n",
              "  @keyframes spin {\n",
              "    0% {\n",
              "      border-color: transparent;\n",
              "      border-bottom-color: var(--fill-color);\n",
              "      border-left-color: var(--fill-color);\n",
              "    }\n",
              "    20% {\n",
              "      border-color: transparent;\n",
              "      border-left-color: var(--fill-color);\n",
              "      border-top-color: var(--fill-color);\n",
              "    }\n",
              "    30% {\n",
              "      border-color: transparent;\n",
              "      border-left-color: var(--fill-color);\n",
              "      border-top-color: var(--fill-color);\n",
              "      border-right-color: var(--fill-color);\n",
              "    }\n",
              "    40% {\n",
              "      border-color: transparent;\n",
              "      border-right-color: var(--fill-color);\n",
              "      border-top-color: var(--fill-color);\n",
              "    }\n",
              "    60% {\n",
              "      border-color: transparent;\n",
              "      border-right-color: var(--fill-color);\n",
              "    }\n",
              "    80% {\n",
              "      border-color: transparent;\n",
              "      border-right-color: var(--fill-color);\n",
              "      border-bottom-color: var(--fill-color);\n",
              "    }\n",
              "    90% {\n",
              "      border-color: transparent;\n",
              "      border-bottom-color: var(--fill-color);\n",
              "    }\n",
              "  }\n",
              "</style>\n",
              "\n",
              "  <script>\n",
              "    async function quickchart(key) {\n",
              "      const quickchartButtonEl =\n",
              "        document.querySelector('#' + key + ' button');\n",
              "      quickchartButtonEl.disabled = true;  // To prevent multiple clicks.\n",
              "      quickchartButtonEl.classList.add('colab-df-spinner');\n",
              "      try {\n",
              "        const charts = await google.colab.kernel.invokeFunction(\n",
              "            'suggestCharts', [key], {});\n",
              "      } catch (error) {\n",
              "        console.error('Error during call to suggestCharts:', error);\n",
              "      }\n",
              "      quickchartButtonEl.classList.remove('colab-df-spinner');\n",
              "      quickchartButtonEl.classList.add('colab-df-quickchart-complete');\n",
              "    }\n",
              "    (() => {\n",
              "      let quickchartButtonEl =\n",
              "        document.querySelector('#df-c022c5f8-599c-466e-b1d6-276988b5c8be button');\n",
              "      quickchartButtonEl.style.display =\n",
              "        google.colab.kernel.accessAllowed ? 'block' : 'none';\n",
              "    })();\n",
              "  </script>\n",
              "</div>\n",
              "\n",
              "    </div>\n",
              "  </div>\n"
            ],
            "application/vnd.google.colaboratory.intrinsic+json": {
              "type": "dataframe",
              "summary": "{\n  \"name\": \"data\",\n  \"rows\": 5,\n  \"fields\": [\n    {\n      \"column\": \"Size (cm)\",\n      \"properties\": {\n        \"dtype\": \"number\",\n        \"std\": 0.3114482300479487,\n        \"min\": 7.2,\n        \"max\": 8.0,\n        \"num_unique_values\": 5,\n        \"samples\": [\n          7.4,\n          7.3,\n          7.5\n        ],\n        \"semantic_type\": \"\",\n        \"description\": \"\"\n      }\n    },\n    {\n      \"column\": \"Weight (g)\",\n      \"properties\": {\n        \"dtype\": \"number\",\n        \"std\": 42,\n        \"min\": 194,\n        \"max\": 282,\n        \"num_unique_values\": 5,\n        \"samples\": [\n          275,\n          282,\n          196\n        ],\n        \"semantic_type\": \"\",\n        \"description\": \"\"\n      }\n    },\n    {\n      \"column\": \"Brix (Sweetness)\",\n      \"properties\": {\n        \"dtype\": \"number\",\n        \"std\": 2.738977911557521,\n        \"min\": 8.5,\n        \"max\": 15.7,\n        \"num_unique_values\": 5,\n        \"samples\": [\n          8.5,\n          10.5,\n          15.7\n        ],\n        \"semantic_type\": \"\",\n        \"description\": \"\"\n      }\n    },\n    {\n      \"column\": \"pH (Acidity)\",\n      \"properties\": {\n        \"dtype\": \"number\",\n        \"std\": 0.5594640292279746,\n        \"min\": 2.9,\n        \"max\": 4.3,\n        \"num_unique_values\": 5,\n        \"samples\": [\n          3.5,\n          2.9,\n          3.0\n        ],\n        \"semantic_type\": \"\",\n        \"description\": \"\"\n      }\n    },\n    {\n      \"column\": \"Softness (1-5)\",\n      \"properties\": {\n        \"dtype\": \"number\",\n        \"std\": 1.0,\n        \"min\": 3.0,\n        \"max\": 5.0,\n        \"num_unique_values\": 3,\n        \"samples\": [\n          5.0,\n          3.0,\n          4.0\n        ],\n        \"semantic_type\": \"\",\n        \"description\": \"\"\n      }\n    },\n    {\n      \"column\": \"HarvestTime (days)\",\n      \"properties\": {\n        \"dtype\": \"number\",\n        \"std\": 4,\n        \"min\": 13,\n        \"max\": 23,\n        \"num_unique_values\": 4,\n        \"samples\": [\n          20,\n          21,\n          13\n        ],\n        \"semantic_type\": \"\",\n        \"description\": \"\"\n      }\n    },\n    {\n      \"column\": \"Ripeness (1-5)\",\n      \"properties\": {\n        \"dtype\": \"number\",\n        \"std\": 1.6733200530681511,\n        \"min\": 1.0,\n        \"max\": 5.0,\n        \"num_unique_values\": 4,\n        \"samples\": [\n          5.0,\n          2.0,\n          1.0\n        ],\n        \"semantic_type\": \"\",\n        \"description\": \"\"\n      }\n    },\n    {\n      \"column\": \"Color\",\n      \"properties\": {\n        \"dtype\": \"string\",\n        \"num_unique_values\": 3,\n        \"samples\": [\n          \"Orange-Red\",\n          \"Light Orange\",\n          \"Deep Orange\"\n        ],\n        \"semantic_type\": \"\",\n        \"description\": \"\"\n      }\n    },\n    {\n      \"column\": \"Variety\",\n      \"properties\": {\n        \"dtype\": \"string\",\n        \"num_unique_values\": 5,\n        \"samples\": [\n          \"Minneola (Hybrid)\",\n          \"Jaffa\",\n          \"Temple\"\n        ],\n        \"semantic_type\": \"\",\n        \"description\": \"\"\n      }\n    },\n    {\n      \"column\": \"Blemishes (Y/N)\",\n      \"properties\": {\n        \"dtype\": \"string\",\n        \"num_unique_values\": 4,\n        \"samples\": [\n          \"N\",\n          \"Y (Minor)\",\n          \"Y (Scars)\"\n        ],\n        \"semantic_type\": \"\",\n        \"description\": \"\"\n      }\n    },\n    {\n      \"column\": \"Quality (1-5)\",\n      \"properties\": {\n        \"dtype\": \"number\",\n        \"std\": 0.8366600265340756,\n        \"min\": 3.0,\n        \"max\": 5.0,\n        \"num_unique_values\": 3,\n        \"samples\": [\n          5.0,\n          4.0,\n          3.0\n        ],\n        \"semantic_type\": \"\",\n        \"description\": \"\"\n      }\n    }\n  ]\n}"
            }
          },
          "metadata": {},
          "execution_count": 37
        }
      ]
    },
    {
      "cell_type": "code",
      "source": [
        "min(data['HarvestTime (days)'])"
      ],
      "metadata": {
        "colab": {
          "base_uri": "https://localhost:8080/"
        },
        "id": "gyXDpTCloei-",
        "outputId": "38a30d66-9e19-4755-8526-3db94411321b"
      },
      "execution_count": null,
      "outputs": [
        {
          "output_type": "execute_result",
          "data": {
            "text/plain": [
              "4"
            ]
          },
          "metadata": {},
          "execution_count": 38
        }
      ]
    },
    {
      "cell_type": "markdown",
      "source": [
        "# **Preprocessing**"
      ],
      "metadata": {
        "id": "npC_FpQBLB9v"
      }
    },
    {
      "cell_type": "code",
      "source": [
        "data.drop_duplicates()\n",
        "data.isnull().sum()"
      ],
      "metadata": {
        "colab": {
          "base_uri": "https://localhost:8080/"
        },
        "id": "UjsGzXod7WEF",
        "outputId": "3f2541e9-52df-44fc-f728-4ef66bc2f770"
      },
      "execution_count": null,
      "outputs": [
        {
          "output_type": "execute_result",
          "data": {
            "text/plain": [
              "Size (cm)             0\n",
              "Weight (g)            0\n",
              "Brix (Sweetness)      0\n",
              "pH (Acidity)          0\n",
              "Softness (1-5)        0\n",
              "HarvestTime (days)    0\n",
              "Ripeness (1-5)        0\n",
              "Color                 0\n",
              "Variety               0\n",
              "Blemishes (Y/N)       0\n",
              "Quality (1-5)         0\n",
              "dtype: int64"
            ]
          },
          "metadata": {},
          "execution_count": 39
        }
      ]
    },
    {
      "cell_type": "markdown",
      "source": [
        "# Label Encoding"
      ],
      "metadata": {
        "id": "3vtDBvl6KgQS"
      }
    },
    {
      "cell_type": "code",
      "source": [
        "data['Color'].unique()"
      ],
      "metadata": {
        "id": "L_aKiIhX0K6K",
        "colab": {
          "base_uri": "https://localhost:8080/"
        },
        "outputId": "f12b1357-6f71-4821-b2fd-e76b9b90288a"
      },
      "execution_count": null,
      "outputs": [
        {
          "output_type": "execute_result",
          "data": {
            "text/plain": [
              "array(['Orange', 'Deep Orange', 'Light Orange', 'Orange-Red',\n",
              "       'Yellow-Orange'], dtype=object)"
            ]
          },
          "metadata": {},
          "execution_count": 40
        }
      ]
    },
    {
      "cell_type": "code",
      "source": [
        "from sklearn.preprocessing import LabelEncoder\n",
        "category_mapping1={'Orange':3, 'Deep Orange':4, 'Light Orange':2, 'Orange-Red':5,'Yellow-Orange':1}\n",
        "categories = data['Color']\n",
        "categories\n",
        "data['Color'] = [category_mapping1[cat] for cat in categories]\n"
      ],
      "metadata": {
        "id": "FHqkTOXV2God"
      },
      "execution_count": null,
      "outputs": []
    },
    {
      "cell_type": "code",
      "source": [
        "data['Blemishes (Y/N)'].unique()"
      ],
      "metadata": {
        "colab": {
          "base_uri": "https://localhost:8080/"
        },
        "id": "x5D6g0gh8ImG",
        "outputId": "352da3bb-8bca-4b65-80ea-95bc8225aeef"
      },
      "execution_count": null,
      "outputs": [
        {
          "output_type": "execute_result",
          "data": {
            "text/plain": [
              "array(['N', 'Y (Minor)', 'Y (Sunburn)', 'Y (Mold Spot)', 'Y (Bruise)',\n",
              "       'Y (Split Skin)', 'Y (Sunburn Patch)', 'Y (Scars)',\n",
              "       'Y (Minor Insect Damage)', 'Y (Bruising)', 'N (Minor)',\n",
              "       'N (Split Skin)'], dtype=object)"
            ]
          },
          "metadata": {},
          "execution_count": 42
        }
      ]
    },
    {
      "cell_type": "code",
      "source": [
        "from sklearn import preprocessing\n",
        "label_encoder = preprocessing.LabelEncoder()\n",
        "data['Variety']= label_encoder.fit_transform(data['Variety'])"
      ],
      "metadata": {
        "id": "-2K7Aqlc8Zde"
      },
      "execution_count": null,
      "outputs": []
    },
    {
      "cell_type": "code",
      "source": [
        "x='Tangerine'\n",
        "x=label_encoder.transform([x])\n",
        "x[0]"
      ],
      "metadata": {
        "colab": {
          "base_uri": "https://localhost:8080/"
        },
        "id": "rQYkwFwjoBe9",
        "outputId": "396cbff5-4936-4ca2-a1c0-abca56549897"
      },
      "execution_count": null,
      "outputs": [
        {
          "output_type": "execute_result",
          "data": {
            "text/plain": [
              "20"
            ]
          },
          "metadata": {},
          "execution_count": 44
        }
      ]
    },
    {
      "cell_type": "code",
      "source": [
        "from sklearn.preprocessing import LabelEncoder\n",
        "category_mapping={'N':0, 'Y (Minor)':3, 'Y (Sunburn)':4, 'Y (Mold Spot)':9, 'Y (Bruise)':7,\n",
        "       'Y (Split Skin)':10, 'Y (Sunburn Patch)':5, 'Y (Scars)':8,\n",
        "       'Y (Minor Insect Damage)':11, 'Y (Bruising)':6, 'N (Minor)':1,\n",
        "       'N (Split Skin)':2}\n",
        "categories = data['Blemishes (Y/N)']\n",
        "categories\n",
        "data['Blemishes (Y/N)'] = [category_mapping[cat] for cat in categories]\n"
      ],
      "metadata": {
        "id": "UV4cWwkF4HHF"
      },
      "execution_count": null,
      "outputs": []
    },
    {
      "cell_type": "markdown",
      "source": [
        "# checking for outliers"
      ],
      "metadata": {
        "id": "1zwmMgViLKKN"
      }
    },
    {
      "cell_type": "code",
      "source": [
        "import seaborn as sns\n",
        "from matplotlib import pyplot as plt\n",
        "fig, axes = plt.subplots(1, 3, figsize=(13, 5))\n",
        "sns.boxplot(ax=axes[0], data=data['pH (Acidity)']).set_title('pH (Acidity)')\n",
        "sns.boxplot(ax=axes[1], data=data['Softness (1-5)']).set_title('Softness (1-5)')\n",
        "sns.boxplot(ax=axes[2], data=data['Ripeness (1-5)']).set_title('Ripeness (1-5)')"
      ],
      "metadata": {
        "colab": {
          "base_uri": "https://localhost:8080/",
          "height": 442
        },
        "id": "7EcZ1A2i9snF",
        "outputId": "33be2de0-feb7-4166-d9fb-66b2411312ef"
      },
      "execution_count": null,
      "outputs": [
        {
          "output_type": "execute_result",
          "data": {
            "text/plain": [
              "Text(0.5, 1.0, 'Ripeness (1-5)')"
            ]
          },
          "metadata": {},
          "execution_count": 46
        },
        {
          "output_type": "display_data",
          "data": {
            "text/plain": [
              "<Figure size 1300x500 with 3 Axes>"
            ],
            "image/png": "[encoded data removed]"
          },
          "metadata": {}
        }
      ]
    },
    {
      "cell_type": "code",
      "source": [
        "x=data[['Size (cm)',\t'Weight (g)',\t'Brix (Sweetness)',\t'pH (Acidity)',\t'Softness (1-5)',\t'HarvestTime (days)',\t'Ripeness (1-5)',\t'Color',\t'Variety',\t'Blemishes (Y/N)']]\n",
        "y=data['Quality (1-5)']"
      ],
      "metadata": {
        "id": "NN3_m6yXCTb1"
      },
      "execution_count": null,
      "outputs": []
    },
    {
      "cell_type": "markdown",
      "source": [
        "# splitting"
      ],
      "metadata": {
        "id": "gWmebPGNLPnK"
      }
    },
    {
      "cell_type": "code",
      "source": [
        "from sklearn.model_selection import train_test_split\n",
        "X_train, X_test, y_train, y_test = train_test_split(x,y, test_size=0.2, random_state=42)"
      ],
      "metadata": {
        "id": "u_xXV_LrDDSA"
      },
      "execution_count": null,
      "outputs": []
    },
    {
      "cell_type": "markdown",
      "source": [
        "# standardizaton"
      ],
      "metadata": {
        "id": "NTux9SY5LRfP"
      }
    },
    {
      "cell_type": "code",
      "source": [
        "from sklearn.preprocessing import StandardScaler\n",
        "scaler = StandardScaler()\n",
        "X_train = scaler.fit_transform(X_train)\n",
        "X_test = scaler.transform(X_test)"
      ],
      "metadata": {
        "id": "9dTA-GOKVFtQ"
      },
      "execution_count": null,
      "outputs": []
    },
    {
      "cell_type": "code",
      "source": [
        "import pickle\n",
        "with open('scaler.pkl', 'wb') as file:\n",
        "    pickle.dump(scaler, file)"
      ],
      "metadata": {
        "id": "h6qqS2yRpC7f"
      },
      "execution_count": null,
      "outputs": []
    },
    {
      "cell_type": "markdown",
      "source": [
        "# Simple regression models"
      ],
      "metadata": {
        "id": "BXWoeubyKZR5"
      }
    },
    {
      "cell_type": "code",
      "source": [
        "dataf={'model_name':[],'r_2 score':[],'mse':[],'rmse':[],'mae':[],'msle':[],'evs':[]}\n",
        "metrics=pd.DataFrame(dataf)\n"
      ],
      "metadata": {
        "id": "-7Wna9ubT2Io"
      },
      "execution_count": null,
      "outputs": []
    },
    {
      "cell_type": "code",
      "source": [
        "import numpy as np\n",
        "from sklearn.metrics import mean_squared_error,r2_score,mean_absolute_error,explained_variance_score,mean_squared_log_error\n",
        "from sklearn.linear_model import LinearRegression,Lasso,Ridge\n",
        "from sklearn.tree import DecisionTreeRegressor\n",
        "from sklearn.ensemble import RandomForestRegressor\n",
        "from sklearn.ensemble import GradientBoostingRegressor\n",
        "from sklearn.ensemble import AdaBoostRegressor\n",
        "from sklearn.ensemble import ExtraTreesRegressor\n",
        "from sklearn.neighbors import KNeighborsRegressor\n",
        "from sklearn.svm import SVR\n",
        "import xgboost as xgb\n",
        "import lightgbm as lgb\n",
        "\n",
        "regressors=[['Linear Regression :',LinearRegression()],\n",
        "       ['lasso',Lasso(alpha=0.1)],\n",
        "       ['ridge',Ridge(alpha=0.1)],\n",
        "       ['XGBRegressor',xgb.XGBRegressor()],\n",
        "       ['Decision Tree Regression :',DecisionTreeRegressor()],\n",
        "       ['Random Forest Regression :',RandomForestRegressor()],\n",
        "       ['Gradient Boosting Regression :', GradientBoostingRegressor()],\n",
        "       ['Ada Boosting Regression :',AdaBoostRegressor()],\n",
        "       ['Extra Tree Regression :', ExtraTreesRegressor()],\n",
        "       ['K-Neighbors Regression :',KNeighborsRegressor()],\n",
        "       ['Support Vector Regression :',SVR()]]\n",
        "for name,model in regressors:\n",
        "    model=model\n",
        "    model.fit(X_train,y_train)\n",
        "    predictions = model.predict(X_test)\n",
        "    mse=mean_squared_error(y_test, predictions)\n",
        "    rms=np.sqrt(mean_squared_error(y_test, predictions))\n",
        "    evs=explained_variance_score(y_test,predictions)\n",
        "    mae = mean_absolute_error(y_test, predictions)\n",
        "    msle=mean_squared_log_error(y_test,predictions)\n",
        "    r2=r2_score(y_test,predictions)\n",
        "    print(name,r2_score(y_test,predictions))\n",
        "    metrics.loc[len(metrics)] =[name,r2,mse,rms,mae,msle,evs]\n",
        "\n"
      ],
      "metadata": {
        "id": "POTB5NUx9MsO"
      },
      "execution_count": null,
      "outputs": []
    },
    {
      "cell_type": "code",
      "source": [
        "metrics"
      ],
      "metadata": {
        "id": "jlWlp1sQfDbi"
      },
      "execution_count": null,
      "outputs": []
    },
    {
      "cell_type": "markdown",
      "source": [
        "# bagging with bootstrap"
      ],
      "metadata": {
        "id": "8FgPoKqeLc-D"
      }
    },
    {
      "cell_type": "code",
      "source": [
        "from sklearn.ensemble import BaggingRegressor\n",
        "bagging_regressor = BaggingRegressor(base_estimator=LinearRegression(),n_estimators=10,bootstrap=True,random_state=3)\n",
        "bagging_regressor.fit(X_train, y_train)\n",
        "predictions = bagging_regressor.predict(X_test)\n",
        "r2_score(y_test,predictions)\n",
        "mse=mean_squared_error(y_test, predictions)\n",
        "rms=np.sqrt(mean_squared_error(y_test, predictions))\n",
        "evs=explained_variance_score(y_test,predictions)\n",
        "mae = mean_absolute_error(y_test, predictions)\n",
        "msle=mean_squared_log_error(y_test,predictions)\n",
        "r2=r2_score(y_test,predictions)\n",
        "name='bagging with bootstrap'\n",
        "metrics.loc[len(metrics)] =[name,r2,mse,rms,mae,msle,evs]"
      ],
      "metadata": {
        "id": "lRYZUSXSIlBC"
      },
      "execution_count": null,
      "outputs": []
    },
    {
      "cell_type": "markdown",
      "source": [
        "# voting with best 3,5,7,9 regressors"
      ],
      "metadata": {
        "id": "OIzIzRl-MXk9"
      }
    },
    {
      "cell_type": "code",
      "source": [
        "from sklearn.ensemble import VotingRegressor\n",
        "voting_rg3 = VotingRegressor(estimators=[('linear', LinearRegression()), ('KNeighborsRegressor', KNeighborsRegressor()), ('Support Vector Regression',SVR())])\n",
        "voting_rg3.fit(X_train,y_train)\n",
        "predictions = voting_rg3.predict(X_test)\n",
        "mse=mean_squared_error(y_test, predictions)\n",
        "rms=np.sqrt(mean_squared_error(y_test, predictions))\n",
        "evs=explained_variance_score(y_test,predictions)\n",
        "mae = mean_absolute_error(y_test, predictions)\n",
        "msle=mean_squared_log_error(y_test,predictions)\n",
        "r2=r2_score(y_test,predictions)\n",
        "name='voting with best 3'\n",
        "metrics.loc[len(metrics)] =[name,r2,mse,rms,mae,msle,evs]\n",
        "r2_score(y_test,predictions)\n",
        "predictions"
      ],
      "metadata": {
        "id": "wVoIDUAtLltc"
      },
      "execution_count": null,
      "outputs": []
    },
    {
      "cell_type": "code",
      "source": [
        "from sklearn.ensemble import VotingRegressor\n",
        "voting_rg5 = VotingRegressor(estimators=[('linear', LinearRegression()), ('KNeighborsRegressor', KNeighborsRegressor()), ('Support Vector Regression',SVR()),('Lasso',Lasso(alpha=0.1)),('ridge',Ridge(alpha=0.1))])\n",
        "voting_rg5.fit(X_train,y_train)\n",
        "predictions = voting_rg5.predict(X_test)\n",
        "mse=mean_squared_error(y_test, predictions)\n",
        "rms=np.sqrt(mean_squared_error(y_test, predictions))\n",
        "evs=explained_variance_score(y_test,predictions)\n",
        "mae = mean_absolute_error(y_test, predictions)\n",
        "msle=mean_squared_log_error(y_test,predictions)\n",
        "r2=r2_score(y_test,predictions)\n",
        "name='voting with best 5'\n",
        "metrics.loc[len(metrics)] =[name,r2,mse,rms,mae,msle,evs]\n",
        "r2_score(y_test,predictions)"
      ],
      "metadata": {
        "id": "Be_X3OvtPHEl"
      },
      "execution_count": null,
      "outputs": []
    },
    {
      "cell_type": "code",
      "source": [
        "from sklearn.ensemble import VotingRegressor\n",
        "voting_rg7 = VotingRegressor(estimators=[('linear', LinearRegression()), ('KNeighborsRegressor', KNeighborsRegressor()), ('Support Vector Regression',SVR()),('Lasso',Lasso(alpha=0.1)),('ridge',Ridge(alpha=0.1)),('GradientBoostingRegressor',GradientBoostingRegressor()),('ExtraTreesRegressor',ExtraTreesRegressor())])\n",
        "voting_rg7.fit(X_train,y_train)\n",
        "predictions = voting_rg7.predict(X_test)\n",
        "mse=mean_squared_error(y_test, predictions)\n",
        "rms=np.sqrt(mean_squared_error(y_test, predictions))\n",
        "evs=explained_variance_score(y_test,predictions)\n",
        "mae = mean_absolute_error(y_test, predictions)\n",
        "msle=mean_squared_log_error(y_test,predictions)\n",
        "r2=r2_score(y_test,predictions)\n",
        "name='voting with best 7'\n",
        "metrics.loc[len(metrics)] =[name,r2,mse,rms,mae,msle,evs]\n",
        "r2_score(y_test,predictions)"
      ],
      "metadata": {
        "id": "4h0cpr5yPxpC"
      },
      "execution_count": null,
      "outputs": []
    },
    {
      "cell_type": "code",
      "source": [
        "from sklearn.ensemble import VotingRegressor\n",
        "voting_rg9 = VotingRegressor(estimators=[('linear', LinearRegression()), ('KNeighborsRegressor', KNeighborsRegressor()), ('Support Vector Regression',SVR()),('Lasso',Lasso(alpha=0.1)),('ridge',Ridge(alpha=0.1)),('GradientBoostingRegressor',GradientBoostingRegressor()),('ExtraTreesRegressor',ExtraTreesRegressor()),('xgb.XGBRegressor',xgb.XGBRegressor()),('RandomForestRegressor',RandomForestRegressor())])\n",
        "voting_rg9.fit(X_train,y_train)\n",
        "predictions= voting_rg9.predict(X_test)\n",
        "mse=mean_squared_error(y_test, predictions)\n",
        "rms=np.sqrt(mean_squared_error(y_test, predictions))\n",
        "evs=explained_variance_score(y_test,predictions)\n",
        "mae = mean_absolute_error(y_test, predictions)\n",
        "msle=mean_squared_log_error(y_test,predictions)\n",
        "r2=r2_score(y_test,predictions)\n",
        "name='voting with best 9'\n",
        "metrics.loc[len(metrics)] =[name,r2,mse,rms,mae,msle,evs]\n",
        "r2_score(y_test,predictions)"
      ],
      "metadata": {
        "id": "pb8v1PW0QHsJ"
      },
      "execution_count": null,
      "outputs": []
    },
    {
      "cell_type": "markdown",
      "source": [
        "# stacking with best 3,5,7,9 regressors"
      ],
      "metadata": {
        "id": "uLYX79xBgpXY"
      }
    },
    {
      "cell_type": "code",
      "source": [
        "from sklearn.ensemble import StackingRegressor\n",
        "stacking_rg3 = StackingRegressor(estimators=[('linear', LinearRegression()), ('KNeighborsRegressor', KNeighborsRegressor()), ('Support Vector Regression',SVR())],final_estimator=KNeighborsRegressor())\n",
        "stacking_rg3.fit(X_train,y_train)\n",
        "predictions = stacking_rg3.predict(X_test)\n",
        "mse=mean_squared_error(y_test, predictions)\n",
        "rms=np.sqrt(mean_squared_error(y_test, predictions))\n",
        "evs=explained_variance_score(y_test,predictions)\n",
        "mae = mean_absolute_error(y_test, predictions)\n",
        "msle=mean_squared_log_error(y_test,predictions)\n",
        "r2=r2_score(y_test,predictions)\n",
        "name='stacking with best 3'\n",
        "metrics.loc[len(metrics)] =[name,r2,mse,rms,mae,msle,evs]\n",
        "r2_score(y_test,predictions)"
      ],
      "metadata": {
        "id": "Fy-Y98r-gonG"
      },
      "execution_count": null,
      "outputs": []
    },
    {
      "cell_type": "code",
      "source": [
        "from sklearn.ensemble import StackingRegressor\n",
        "stacking_rg5 = StackingRegressor(estimators=[('linear', LinearRegression()), ('KNeighborsRegressor', KNeighborsRegressor()), ('Support Vector Regression',SVR()),('Lasso',Lasso(alpha=0.1)),('ridge',Ridge(alpha=0.1))],final_estimator=KNeighborsRegressor())\n",
        "stacking_rg5.fit(X_train,y_train)\n",
        "predictions = stacking_rg5.predict(X_test)\n",
        "mse=mean_squared_error(y_test, predictions)\n",
        "rms=np.sqrt(mean_squared_error(y_test, predictions))\n",
        "evs=explained_variance_score(y_test,predictions)\n",
        "mae = mean_absolute_error(y_test, predictions)\n",
        "msle=mean_squared_log_error(y_test,predictions)\n",
        "r2=r2_score(y_test,predictions)\n",
        "name='stacking with best 5'\n",
        "metrics.loc[len(metrics)] =[name,r2,mse,rms,mae,msle,evs]\n",
        "r2_score(y_test,predictions)"
      ],
      "metadata": {
        "id": "OhTsY9AuhFwS"
      },
      "execution_count": null,
      "outputs": []
    },
    {
      "cell_type": "code",
      "source": [
        "from sklearn.ensemble import StackingRegressor\n",
        "stacking_rg7 = StackingRegressor(estimators=[('linear', LinearRegression()), ('KNeighborsRegressor', KNeighborsRegressor()), ('Support Vector Regression',SVR()),('Lasso',Lasso(alpha=0.1)),('ridge',Ridge(alpha=0.1)),('GradientBoostingRegressor',GradientBoostingRegressor()),('ExtraTreesRegressor',ExtraTreesRegressor())],final_estimator=KNeighborsRegressor())\n",
        "stacking_rg7.fit(X_train,y_train)\n",
        "predictions = stacking_rg7.predict(X_test)\n",
        "mse=mean_squared_error(y_test, predictions)\n",
        "rms=np.sqrt(mean_squared_error(y_test, predictions))\n",
        "evs=explained_variance_score(y_test,predictions)\n",
        "mae = mean_absolute_error(y_test, predictions)\n",
        "msle=mean_squared_log_error(y_test,predictions)\n",
        "r2=r2_score(y_test,predictions)\n",
        "name='stacking with best 7'\n",
        "metrics.loc[len(metrics)] =[name,r2,mse,rms,mae,msle,evs]\n",
        "r2_score(y_test,predictions)"
      ],
      "metadata": {
        "id": "30l78t4ghh41"
      },
      "execution_count": null,
      "outputs": []
    },
    {
      "cell_type": "code",
      "source": [
        "from sklearn.ensemble import StackingRegressor\n",
        "stacking_rg9 = StackingRegressor(estimators=[('linear', LinearRegression()), ('KNeighborsRegressor', KNeighborsRegressor()), ('Support Vector Regression',SVR()),('Lasso',Lasso(alpha=0.1)),('ridge',Ridge(alpha=0.1)),('GradientBoostingRegressor',GradientBoostingRegressor()),('ExtraTreesRegressor',ExtraTreesRegressor()),('xgb.XGBRegressor',xgb.XGBRegressor()),('RandomForestRegressor',RandomForestRegressor())],final_estimator=KNeighborsRegressor())\n",
        "stacking_rg9.fit(X_train,y_train)\n",
        "predictions = stacking_rg9.predict(X_test)\n",
        "mse=mean_squared_error(y_test, predictions)\n",
        "rms=np.sqrt(mean_squared_error(y_test, predictions))\n",
        "evs=explained_variance_score(y_test,predictions)\n",
        "mae = mean_absolute_error(y_test, predictions)\n",
        "msle=mean_squared_log_error(y_test,predictions)\n",
        "r2=r2_score(y_test,predictions)\n",
        "name='stacking with best 9'\n",
        "metrics.loc[len(metrics)] =[name,r2,mse,rms,mae,msle,evs]\n",
        "r2_score(y_test,predictions)"
      ],
      "metadata": {
        "id": "FZvbhZQZieve"
      },
      "execution_count": null,
      "outputs": []
    },
    {
      "cell_type": "markdown",
      "source": [
        "# Metrics of all regressors"
      ],
      "metadata": {
        "id": "sYXMfchki-uF"
      }
    },
    {
      "cell_type": "code",
      "source": [
        "metrics"
      ],
      "metadata": {
        "id": "-42FB4Sqi4eV"
      },
      "execution_count": null,
      "outputs": []
    },
    {
      "cell_type": "code",
      "source": [
        "data"
      ],
      "metadata": {
        "id": "JQdyzev6An3I"
      },
      "execution_count": null,
      "outputs": []
    },
    {
      "cell_type": "code",
      "source": [
        "voting_rg3.predict([[8.5\t,210,\t11.5\t,3.3\t,2.5\t,12\t,5.0\t,3\t,6\t,3\t]])"
      ],
      "metadata": {
        "id": "VO61Ui4iAgY_"
      },
      "execution_count": null,
      "outputs": []
    },
    {
      "cell_type": "code",
      "source": [
        "import pickle\n",
        "with open('model.pkl', 'wb') as file:\n",
        "    pickle.dump(voting_rg3, file)\n",
        "with open('blemishes.pkl', 'wb') as file:\n",
        "    pickle.dump(category_mapping, file)\n",
        "with open('variety.pkl', 'wb') as file:\n",
        "    pickle.dump(label_encoder, file)\n",
        "with open('color.pkl', 'wb') as file:\n",
        "    pickle.dump(category_mapping1, file)\n"
      ],
      "metadata": {
        "id": "FAExBp3pzurj"
      },
      "execution_count": null,
      "outputs": []
    }
  ]
}